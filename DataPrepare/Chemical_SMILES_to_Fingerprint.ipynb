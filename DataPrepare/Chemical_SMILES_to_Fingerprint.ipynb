{
 "cells": [
  {
   "cell_type": "code",
   "execution_count": 50,
   "metadata": {
    "collapsed": true
   },
   "outputs": [],
   "source": [
    "import numpy as np\n",
    "from pandas import pandas as pd"
   ]
  },
  {
   "cell_type": "code",
   "execution_count": 53,
   "metadata": {
    "collapsed": true
   },
   "outputs": [],
   "source": [
    "def readSmilesToFingerprints(smstr):\n",
    "    l = len(smstr)\n",
    "    i = 0\n",
    "    prevatom = None\n",
    "    prevnegval = None\n",
    "    atom = None\n",
    "    negval = 0\n",
    "    nxt = None\n",
    "    doubleBond = False\n",
    "    tripleBond = False\n",
    "    vec = np.zeros(24)\n",
    "    bondmatrix = np.zeros((6,6)) # matrix for pairwise bonds among O0,O1,C0,C1,C2,C3\n",
    "    o_zero_pos_at_vec = 3\n",
    "    c_zero_pos_at_vec = 5\n",
    "    while i < l:\n",
    "        prevatom = atom\n",
    "        prevnegval = negval\n",
    "        negval = 0\n",
    "        atom = None\n",
    "        leftBranch = False\n",
    "        rightBranch = False\n",
    "        elemToRight = False\n",
    "        if i >= 4 and smstr[i-4:i] == '(O=)':\n",
    "            leftBranch = True\n",
    "            vec[o_zero_pos_at_vec] += 1\n",
    "            vec[2] += 1 #number of O\n",
    "        if smstr[i] == '[':\n",
    "            atom = smstr[i+1]\n",
    "            negval = int(smstr[i+3])\n",
    "            i += 4\n",
    "        elif smstr[i] == 'C' or smstr[i] == 'O':\n",
    "            atom = smstr[i]\n",
    "            negval = 0\n",
    "        if i < (l-4) and smstr[i+1:i+5] == '(=O)':\n",
    "            rightBranch = True\n",
    "            vec[o_zero_pos_at_vec] += 1\n",
    "            vec[2] += 1 #number of O\n",
    "            i += 4\n",
    "        if i < (l-1) and (smstr[i+1] == '[' or smstr[i+1] == 'C' or smstr[i+1] == 'O'):\n",
    "            elemToRight = True\n",
    "            \n",
    "        rem_positions = 0\n",
    "        if atom == 'C':\n",
    "            rem_positions = 4\n",
    "            vec[1] += 1 #number of C\n",
    "            vec[c_zero_pos_at_vec + negval] += 1 #number of C0 or C1 or C2 or C3; starting at vector index 5\n",
    "        elif atom == 'O':\n",
    "            rem_positions = 2\n",
    "            vec[2] += 1 #number of O\n",
    "            vec[o_zero_pos_at_vec + negval] += 1 #number of O0 or O1; starting at vector index 3\n",
    "        rem_positions -= negval\n",
    "        if leftBranch:\n",
    "            rem_positions -= 2\n",
    "        if rightBranch:\n",
    "            rem_positions -= 2        \n",
    "        if elemToRight:\n",
    "            rem_positions -= 1\n",
    "        if prevatom is not None:\n",
    "            rem_positions -= 1\n",
    "        \n",
    "        curr = str(atom) + str(negval)\n",
    "        vec[0] += rem_positions #number of H\n",
    "        if atom == 'C':\n",
    "            vec[9] += rem_positions #number of C-H\n",
    "            if leftBranch:\n",
    "                vec[12] += 1 #number of C=O\n",
    "            if rightBranch:\n",
    "                vec[12] += 1 #number of C=O\n",
    "        if atom == 'O':\n",
    "            vec[13] += rem_positions #number of O-H\n",
    "        \n",
    "        if prevatom is not None:\n",
    "            rowstartidx = 0\n",
    "            colstartidx = 0\n",
    "            if prevatom == 'C':\n",
    "                rowstartidx = 2\n",
    "            if atom == 'C':\n",
    "                colstartidx = 2\n",
    "            bondmatrix[rowstartidx + prevnegval, colstartidx + negval] += 1\n",
    "        i += 1\n",
    "        \n",
    "    for j in range(3,6):\n",
    "        for i in range(2,j):\n",
    "            bondmatrix[i,j] += bondmatrix[j,i]\n",
    "    vec[14:] = (bondmatrix[2:,2:])[np.triu_indices(4)]\n",
    "    vec[10] += np.sum(bondmatrix[2:,0]) + np.sum(bondmatrix[0,2:])\n",
    "    vec[11] += np.sum(bondmatrix[2:,1]) + np.sum(bondmatrix[1,2:])\n",
    "    return vec\n",
    "        "
   ]
  },
  {
   "cell_type": "code",
   "execution_count": 44,
   "metadata": {},
   "outputs": [
    {
     "data": {
      "text/plain": [
       "array([3., 2., 0., 0., 0., 1., 0., 0., 1., 3., 0., 0., 0., 0., 0., 0., 0.,\n",
       "       1., 0., 0., 0., 0., 0., 0.])"
      ]
     },
     "execution_count": 44,
     "metadata": {},
     "output_type": "execute_result"
    }
   ],
   "source": [
    "#readSmilesToFingerprints('OC(=O)[C-1]CC(=O)O')\n",
    "#readSmilesToFingerprints('[C-1](=O)[C-2][C-2][C-1](=O)')\n",
    "#readSmilesToFingerprints('CCC(=O)[O-1]')\n",
    "#readSmilesToFingerprints('C[C-3]')"
   ]
  },
  {
   "cell_type": "code",
   "execution_count": 68,
   "metadata": {},
   "outputs": [],
   "source": [
    "def convertSMILES_file_to_csv(filename, input_cols, num_rows):\n",
    "    f = open(filename, 'r')\n",
    "    df = pd.DataFrame(index=range(num_rows), columns = input_cols)\n",
    "    i = 0\n",
    "    next(f)\n",
    "    for line in f:\n",
    "        df.iloc[i,:] = line.split()\n",
    "        i += 1\n",
    "    df.to_csv(filename + '.csv')\n",
    "\n",
    "\n",
    "def MakeFingerprintsOutofSmiles(input_smiles_filename, input_cols, num_rows):\n",
    "    convertSMILES_file_to_csv(input_smiles_filename, input_cols, num_rows)\n",
    "    smilesDF = pd.read_csv(input_smiles_filename + '.csv', skiprows = 0, index_col=0)\n",
    "    fpDF = pd.DataFrame(index = range(smilesDF.shape[0]), columns = input_cols + ['H', 'C', 'O', 'O0', 'O1',\n",
    "                                                                    'C0', 'C1', 'C2', 'C3', 'C-H', 'C-O0', 'C-O1', 'C=O', 'O-H',\n",
    "                                                                    'C0-C0', 'C0-C1', 'C0-C2', 'C0-C3', 'C1-C1', 'C1-C2', 'C1-C3',\n",
    "                                                                    'C2-C2', 'C2-C3', 'C3-C3'])\n",
    "    for i in range(smilesDF.shape[0]):\n",
    "        print(smilesDF.iloc[i, len(input_cols)-1])\n",
    "        fpDF.iloc[i, 0:len(input_cols)] = smilesDF.iloc[i, 0:len(input_cols)]\n",
    "        fpDF.iloc[i, len(input_cols):] = readSmilesToFingerprints(smilesDF.iloc[i,len(input_cols)-1])\n",
    "    fpDF.to_csv(input_smiles_filename + '_Fingerprints.csv')"
   ]
  },
  {
   "cell_type": "code",
   "execution_count": 70,
   "metadata": {},
   "outputs": [
    {
     "name": "stdout",
     "output_type": "stream",
     "text": [
      "[C-2][C-2]\n",
      "CCC(=O)[O-1]\n",
      "[C-1][C-2]\n",
      "C[C-2]C(=O)[O-1]\n",
      "[C-1][C-1][C-1](=O)\n",
      "CC[C-1](=O)\n",
      "[C-1][C-1]C(=O)O\n",
      "[C-2](=O)\n",
      "CC\n",
      "C[C-1]C(=O)[O-1]\n",
      "[O-2]\n",
      "C[C-2]\n",
      "C[C-2]C(=O)O\n",
      "C[C-3]\n",
      "C[C-1][C-1](=O)\n",
      "[C-1](=O)O\n",
      "[C-4]\n",
      "[O-1]\n",
      "[C-1][C-1]\n",
      "C[C-1]\n",
      "CCC(=O)O\n",
      "C[C-2][C-1](=O)\n",
      "C[C-1]C(=O)O\n",
      "[C-2][C-1]C(=O)O\n",
      "[C-1][C-3]\n",
      "[C-2][C-1][C-1](=O)\n",
      "[H-1]\n",
      "(O=)C(=O)\n",
      "O\n"
     ]
    }
   ],
   "source": [
    "#MakeFingerprintsOutofSmiles('SUCC_SMILES', ['species','formula','smiles'], 187)\n",
    "MakeFingerprintsOutofSmiles('PAC_SMILES', ['formula','smiles'], 29)"
   ]
  },
  {
   "cell_type": "code",
   "execution_count": 59,
   "metadata": {},
   "outputs": [
    {
     "name": "stdout",
     "output_type": "stream",
     "text": [
      "def\n",
      "[0. 0. 0. 0. 0.]\n",
      "3\n",
      "4\n",
      "5\n"
     ]
    },
    {
     "data": {
      "text/plain": [
       "['a', 'b', 'c', 'e', 'd', 'f']"
      ]
     },
     "execution_count": 59,
     "metadata": {},
     "output_type": "execute_result"
    }
   ],
   "source": [
    "ss = 'abcdefgh'\n",
    "print(ss[3:6])\n",
    "vc = np.zeros(5)\n",
    "print(vc)\n",
    "for i in range(3,6):\n",
    "    print(i)\n",
    "col1 = ['a','b','c']\n",
    "col2 = col1 + ['e','d','f']\n",
    "col2"
   ]
  }
 ],
 "metadata": {
  "kernelspec": {
   "display_name": "Python 3",
   "language": "python",
   "name": "python3"
  },
  "language_info": {
   "codemirror_mode": {
    "name": "ipython",
    "version": 3
   },
   "file_extension": ".py",
   "mimetype": "text/x-python",
   "name": "python",
   "nbconvert_exporter": "python",
   "pygments_lexer": "ipython3",
   "version": "3.5.4"
  }
 },
 "nbformat": 4,
 "nbformat_minor": 2
}
